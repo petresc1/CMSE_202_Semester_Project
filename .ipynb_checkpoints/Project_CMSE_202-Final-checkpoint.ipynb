{
 "cells": [
  {
   "cell_type": "markdown",
   "metadata": {},
   "source": [
    "Names: Garrit Hotchkiss, Ben Johnson,"
   ]
  },
  {
   "cell_type": "code",
   "execution_count": 23,
   "metadata": {},
   "outputs": [],
   "source": [
    "#general imports\n",
    "import numpy as np\n",
    "import matplotlib.pyplot as plt\n",
    "%matplotlib inline\n",
    "\n",
    "#animation and image imports\n",
    "from IPython.display import display, clear_output\n",
    "import time  \n",
    "import imageio"
   ]
  },
  {
   "cell_type": "code",
   "execution_count": 24,
   "metadata": {},
   "outputs": [],
   "source": [
    "#creates a grid that we can index for making our campuses\n",
    "def plotgrid(myarray):\n",
    "    \n",
    "    # creates a range of numbers that make the grid\n",
    "    x_range = np.linspace(0, myarray.shape[0], myarray.shape[0]) \n",
    "    y_range = np.linspace(0, myarray.shape[0], myarray.shape[0])\n",
    "    x_indices, y_indices = np.meshgrid(x_range, y_range)\n",
    "    \n",
    "    #susceptible/non-sick people = 1 \n",
    "    susc_x = x_indices[myarray == 1];   \n",
    "    susc_y = y_indices[myarray == 1];\n",
    "    \n",
    "    #sick people = 2\n",
    "    infected_x = x_indices[myarray == 2];   \n",
    "    infected_y = y_indices[myarray == 2];\n",
    "    \n",
    "    #immune/flu-shot people = 4\n",
    "    immune_x = x_indices[myarray == 4]\n",
    "    immune_y = y_indices[myarray == 4]\n",
    "    \n",
    "    #plots the x and y coordinates together and also assigns them a color and size\n",
    "    plt.plot(susc_x, susc_y, 'gs',markersize = 10)   \n",
    "    plt.plot(infected_x, infected_y, 'rs',markersize = 10)\n",
    "    plt.plot(immune_x, immune_y, 'bs', markersize = 10)\n",
    "    \n",
    "    #xlim and ylim to make it look better\n",
    "    plt.xlim([-1,myarray.shape[0]+1])\n",
    "    plt.ylim([-1,myarray.shape[0]+1]) \n",
    "\n",
    "    #removing ticks and labels\n",
    "    plt.tick_params(axis='both', which='both',bottom='off', top='off', left='off', right='off', labelbottom='off', labelleft='off')"
   ]
  },
  {
   "cell_type": "code",
   "execution_count": 25,
   "metadata": {},
   "outputs": [],
   "source": [
    "#initially sets board before disease spreads\n",
    "def set_board(board_size, immune, infected, pop):\n",
    "   \n",
    "    # all cells initialized to 'empty' by default which equals 0 \n",
    "    game_board = np.zeros((board_size,board_size),dtype='int64')\n",
    "    \n",
    "    #loops through every cell of the board and will randomly change the 'empty' (0) to infected, susceptible, or immune\n",
    "    for i in range(board_size):\n",
    "        \n",
    "        for j in range(board_size):\n",
    "            \n",
    "            if np.random.random() <= pop:\n",
    "                \n",
    "                game_board[i,j] = 1\n",
    "            \n",
    "            elif np.random.random() <= immune:\n",
    "                \n",
    "                game_board[i,j] = 4\n",
    "                \n",
    "            elif np.random.random() <= infected:\n",
    "                \n",
    "                game_board[i, j] = 2\n",
    "    \n",
    "    return game_board"
   ]
  },
  {
   "cell_type": "code",
   "execution_count": 26,
   "metadata": {},
   "outputs": [],
   "source": [
    "def onBoard(i, j, board):\n",
    "    \n",
    "    #check to see if the i-j index actually exists on the board\n",
    "    if i <= board.shape[0]-1 and i >= 0 and j <= board.shape[1]-1 and j >= 0:\n",
    "        \n",
    "        return True\n",
    "    \n",
    "    #checks to see if it doesn't\n",
    "    else:\n",
    "        \n",
    "        return False"
   ]
  },
  {
   "cell_type": "code",
   "execution_count": 27,
   "metadata": {},
   "outputs": [],
   "source": [
    "#getting the neighbor values after we check if the location is on the board\n",
    "def getNeighborValues(i, j, board):\n",
    "    \n",
    "    # The following list contains the indices of the neighbors for a pixel at (i, j)\n",
    "    # moore model(checks diagonals)\n",
    "    neighborhood = [(i-1,j-1), (i-1, j), (i-1,j+1), (i, j-1), (i, j+1), (i+1,j-1), (i+1,j), (i+1,j+1)]\n",
    "    \n",
    "    neighbor_values = []\n",
    "    \n",
    "    for neighbor in neighborhood:\n",
    "        if onBoard(neighbor[0],neighbor[1],board):\n",
    "            neighbor_values.append(board[neighbor[0],neighbor[1]]) \n",
    "    \n",
    "    return neighbor_values"
   ]
  },
  {
   "cell_type": "code",
   "execution_count": 28,
   "metadata": {},
   "outputs": [],
   "source": [
    "# runs dynamic infecting of inital \"set\" board\n",
    "\n",
    "def advance_board(game_board, infect):\n",
    "    \n",
    "    # create a new array that's just like the original one \n",
    "    # copy array is set to all zeros\n",
    "    new_board = np.zeros_like(game_board)\n",
    "   \n",
    "    # loop over each cell and update board\n",
    "    for i in range(game_board.shape[0]):\n",
    "        for j in range(game_board.shape[1]):\n",
    "            \n",
    "            # update new_board if location is empty and count\n",
    "            if game_board[i,j] == 0:\n",
    "                new_board[i,j] = 0\n",
    "                \n",
    "            # update new_board if location is immune and count\n",
    "            if game_board[i,j] == 4:\n",
    "                new_board[i,j] = 4\n",
    "            \n",
    "            # update new_board if location is infected and count\n",
    "            if game_board[i,j] == 2:\n",
    "                new_board[i,j] = 2\n",
    "    \n",
    "            # if they're susceptible, check to see if they get infected\n",
    "            if game_board[i,j] == 1:\n",
    "                \n",
    "                # initially make it susceptible\n",
    "                new_board[i,j] = 1\n",
    "                \n",
    "                # If one of the neighboring cells was infected last turn\n",
    "                # infect is stated infecting rate\n",
    "                neighbors = getNeighborValues(i,j, game_board)\n",
    "                for n in neighbors:\n",
    "                    if n == 2:\n",
    "                         if np.random.random() < infect:\n",
    "                            new_board[i,j] = 2\n",
    "    \n",
    "    # return the new board\n",
    "    return new_board"
   ]
  },
  {
   "cell_type": "code",
   "execution_count": 29,
   "metadata": {
    "scrolled": true
   },
   "outputs": [
    {
     "data": {
      "image/png": "[encoded data removed]",
      "text/plain": [
       "<Figure size 720x720 with 1 Axes>"
      ]
     },
     "metadata": {},
     "output_type": "display_data"
    }
   ],
   "source": [
    "import matplotlib.pyplot as plt\n",
    "%matplotlib inline\n",
    "\n",
    "#creates 50 by 50 board\n",
    "board_size = 50\n",
    "\n",
    "#figure size that looks best\n",
    "fig = plt.figure(figsize=(10,10))\n",
    "\n",
    "# Inputs for infecting\n",
    "# Immunity is 37.1% across US (from cdc data)\n",
    "# The number of starting infected people is arbitrary, we have decided on 5% of the initial pop is sick\n",
    "# Population density depends on school \n",
    "game_board = set_board(board_size = board_size, immune = 0.371, infected = 0.05, pop = .1865)\n",
    "\n",
    "# plot initial board\n",
    "plotgrid(game_board)\n",
    "\n",
    "# indicator variable if cell/person is infected or not\n",
    "infected = True\n",
    "iterations = 0\n",
    "imagename = []\n",
    "\n",
    "# while there is at least one infected cell\n",
    "while infected == True:\n",
    "    iterations += 1\n",
    "    game_board = advance_board(game_board, infect = 0.024)\n",
    "    \n",
    "    \n",
    "    # plot our advanced board (with some animation commands)\n",
    "    plotgrid(game_board)\n",
    "    time.sleep(0.00000000001)  # \n",
    "    \n",
    "    #This part of the code saves the figs as png so we can later turn them into a gif\n",
    "    fig.savefig(\"images/cal\"+str(iterations)+\".png\")\n",
    "    imagename.append(\"images/cal\"+str(iterations)+\".png\")\n",
    "    \n",
    "    clear_output(wait=True)\n",
    "    display(fig)\n",
    "    fig.clear()\n",
    "    \n",
    "    #running for set number of iterations\n",
    "    if iterations > 50:\n",
    "        infected = False\n",
    "   \n",
    "    if (game_board == 2).sum() == 0.0:\n",
    "        infected = False\n",
    "\n",
    "# close the figure\n",
    "plt.close()     \n"
   ]
  },
  {
   "cell_type": "code",
   "execution_count": 30,
   "metadata": {},
   "outputs": [],
   "source": [
    "#iterating through board to get counts\n",
    "empty_count = 0\n",
    "immune_count= 0\n",
    "susc_count = 0 \n",
    "infected_count=0\n",
    "\n",
    "for i in range(game_board.shape[0]):\n",
    "    for j in range(game_board.shape[1]):\n",
    "        \n",
    "        if game_board[i,j] == 0:\n",
    "            empty_count += 1\n",
    "                \n",
    "        if game_board[i,j] == 4:\n",
    "            immune_count += 1\n",
    "            \n",
    "        if game_board[i,j] == 2:\n",
    "            infected_count += 1\n",
    "    \n",
    "        if game_board[i,j] == 1:\n",
    "            susc_count += 1 \n",
    "            \n",
    "                            \n",
    "counts = [empty_count, immune_count, susc_count, infected_count]\n",
    "    \n",
    "  "
   ]
  },
  {
   "cell_type": "code",
   "execution_count": 34,
   "metadata": {},
   "outputs": [
    {
     "name": "stdout",
     "output_type": "stream",
     "text": [
      "Total Population: 1265\n",
      "# of empty cells: 1235\n",
      "# of immune people: 777\n",
      "# of Healthy People: 385\n",
      "# of Sick People: 103\n"
     ]
    }
   ],
   "source": [
    "print(\"Total Population:\", counts[1] + counts[2] + counts[3])\n",
    "print(\"# of empty cells:\",counts[0])\n",
    "print(\"# of immune people:\",counts[1])\n",
    "print(\"# of Healthy People:\",counts[2])\n",
    "print(\"# of Sick People:\",counts[3])"
   ]
  },
  {
   "cell_type": "code",
   "execution_count": 33,
   "metadata": {},
   "outputs": [],
   "source": [
    "images = []\n",
    "\n",
    "for img in imagename:\n",
    "    images.append(imageio.imread(img))\n",
    "imageio.mimsave('gifs/cal_movie.gif', images)"
   ]
  },
  {
   "cell_type": "code",
   "execution_count": null,
   "metadata": {},
   "outputs": [],
   "source": []
  }
 ],
 "metadata": {
  "kernelspec": {
   "display_name": "Python 3",
   "language": "python",
   "name": "python3"
  },
  "language_info": {
   "codemirror_mode": {
    "name": "ipython",
    "version": 3
   },
   "file_extension": ".py",
   "mimetype": "text/x-python",
   "name": "python",
   "nbconvert_exporter": "python",
   "pygments_lexer": "ipython3",
   "version": "3.7.3"
  }
 },
 "nbformat": 4,
 "nbformat_minor": 4
}
