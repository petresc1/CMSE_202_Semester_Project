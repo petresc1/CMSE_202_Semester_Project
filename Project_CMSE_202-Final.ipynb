{
 "cells": [
  {
   "cell_type": "markdown",
   "metadata": {},
   "source": [
    "# CMSE 202 Final Project #\n",
    "Names: Garrit Hotchkiss, Ben Johnson, Isabel Petrescu, Jacob Marquez\n",
    "\n",
    "The purpose of this project is to compare the spread of the influenza virus among the Michigan State University campus and several other college campuses. The college campuses we are analyzing are Michigan State University, University of Michigan, Ohio State University, California State University Fullerton (largest college campus), and Alaska Bible Study College (smallest college campus). We accomplish this goal using an agent-based model (ABM) to represent each location with the population density for the model dependent on the actual population and size of the location.\n",
    "# Define necessary functions #\n",
    "Here we import our necessary libraries and define the functions that will be needed to create our ABM model to demonstrate the spread of the influenza virus on each college campus."
   ]
  },
  {
   "cell_type": "code",
   "execution_count": 1,
   "metadata": {},
   "outputs": [],
   "source": [
    "# general imports\n",
    "import numpy as np\n",
    "import matplotlib.pyplot as plt\n",
    "%matplotlib inline\n",
    "\n",
    "# animation and image imports\n",
    "from IPython.display import display, clear_output\n",
    "import time  \n",
    "import imageio"
   ]
  },
  {
   "cell_type": "code",
   "execution_count": 2,
   "metadata": {},
   "outputs": [],
   "source": [
    "def plotgrid(myarray):\n",
    "    '''This function creates a grid that will be used to create each campus'''\n",
    "    \n",
    "    # creates a range of numbers to make the grid\n",
    "    x_range = np.linspace(0, myarray.shape[0], myarray.shape[0]) \n",
    "    y_range = np.linspace(0, myarray.shape[0], myarray.shape[0])\n",
    "    x_indices, y_indices = np.meshgrid(x_range, y_range)\n",
    "    \n",
    "    # susceptible/non-sick people = 1 \n",
    "    susc_x = x_indices[myarray == 1];   \n",
    "    susc_y = y_indices[myarray == 1];\n",
    "    \n",
    "    # sick people = 2\n",
    "    infected_x = x_indices[myarray == 2];   \n",
    "    infected_y = y_indices[myarray == 2];\n",
    "    \n",
    "    # immune/flu-shot people = 4\n",
    "    immune_x = x_indices[myarray == 4]\n",
    "    immune_y = y_indices[myarray == 4]\n",
    "    \n",
    "    # plots the x and y coordinates together and also assigns them a color and size\n",
    "    plt.plot(susc_x, susc_y, 'gs',markersize = 10)   \n",
    "    plt.plot(infected_x, infected_y, 'rs',markersize = 10)\n",
    "    plt.plot(immune_x, immune_y, 'bs', markersize = 10)\n",
    "    \n",
    "    # set xlim and ylim to improve how the grid looks\n",
    "    plt.xlim([-1,myarray.shape[0]+1])\n",
    "    plt.ylim([-1,myarray.shape[0]+1]) \n",
    "\n",
    "    # removing ticks and labels\n",
    "    plt.tick_params(axis='both', which='both',bottom='off', top='off', left='off', right='off', labelbottom='off', labelleft='off')"
   ]
  },
  {
   "cell_type": "code",
   "execution_count": 3,
   "metadata": {},
   "outputs": [],
   "source": [
    "def set_board(board_size, immune, infected, pop):\n",
    "    '''This function creates the initial board before the infection spreads'''\n",
    "    \n",
    "    # all cells initialized to 'empty' by default which equals 0 \n",
    "    game_board = np.zeros((board_size,board_size),dtype='int64')\n",
    "    \n",
    "    # loops through every position of the board and will randomly change the 'empty' (0)\n",
    "    # to infected, susceptible, or immune\n",
    "    for i in range(board_size):\n",
    "        \n",
    "        for j in range(board_size):\n",
    "            \n",
    "            if np.random.random() <= pop:\n",
    "                \n",
    "                game_board[i,j] = 1\n",
    "            \n",
    "            elif np.random.random() <= immune:\n",
    "                \n",
    "                game_board[i,j] = 4\n",
    "                \n",
    "            elif np.random.random() <= infected:\n",
    "                \n",
    "                game_board[i, j] = 2\n",
    "    \n",
    "    return game_board"
   ]
  },
  {
   "cell_type": "code",
   "execution_count": 4,
   "metadata": {},
   "outputs": [],
   "source": [
    "def onBoard(i, j, board):\n",
    "    '''This function is given a board, as a 2D array, and the index, of the format (i,j), of a point \n",
    "    and checks whether or not the point is on the board'''\n",
    "    \n",
    "    # check if the point at index (i,j) actually exists on the board\n",
    "    if i <= board.shape[0]-1 and i >= 0 and j <= board.shape[1]-1 and j >= 0:\n",
    "        \n",
    "        return True\n",
    "    \n",
    "    # check if the point is not on the board\n",
    "    else:\n",
    "        \n",
    "        return False"
   ]
  },
  {
   "cell_type": "code",
   "execution_count": 5,
   "metadata": {},
   "outputs": [],
   "source": [
    "def getNeighborValues(i, j, board):\n",
    "    '''This function makes use of the onBoard function to find the neighbors (left, right, above, below, diagonal) \n",
    "    of a point on the given board once the point is confirmed to be on the board. The position of each neighbor \n",
    "    is also confirmed to be on the board before being considered a 'valid' neighbor'''\n",
    "    \n",
    "    # The following list contains the indices of the neighbors for a point at index (i,j)\n",
    "    # and uses the Moore Model, meaning that the neighbors at diagonal points are included\n",
    "    neighborhood = [(i-1,j-1), (i-1, j), (i-1,j+1), (i, j-1), (i, j+1), (i+1,j-1), (i+1,j), (i+1,j+1)]\n",
    "    \n",
    "    # initialize an empty list of valid neighbors\n",
    "    neighbor_values = []\n",
    "    \n",
    "    # for each neighbor in the list verify that the index of the neighbor exists on the board\n",
    "    # if the neighbor exists on the board the index is included in a list of valid neighbors\n",
    "    for neighbor in neighborhood:\n",
    "        if onBoard(neighbor[0],neighbor[1],board):\n",
    "            neighbor_values.append(board[neighbor[0],neighbor[1]]) \n",
    "    \n",
    "    return neighbor_values"
   ]
  },
  {
   "cell_type": "code",
   "execution_count": 6,
   "metadata": {},
   "outputs": [],
   "source": [
    "def advance_board(game_board, infect):\n",
    "    '''This function runs an ABM model and performs dynamic infecting of the initial board'''\n",
    "    \n",
    "    # create a new array that's a copy of the original (same shape) \n",
    "    # copy array is initialized to all zeros\n",
    "    new_board = np.zeros_like(game_board)\n",
    "   \n",
    "    # loop through each position and update board\n",
    "    for i in range(game_board.shape[0]):\n",
    "        for j in range(game_board.shape[1]):\n",
    "            \n",
    "            # update new_board if location is empty\n",
    "            if game_board[i,j] == 0:\n",
    "                new_board[i,j] = 0\n",
    "                \n",
    "            # update new_board if location is immune\n",
    "            if game_board[i,j] == 4:\n",
    "                new_board[i,j] = 4\n",
    "            \n",
    "            # update new_board if location is infected\n",
    "            if game_board[i,j] == 2:\n",
    "                new_board[i,j] = 2\n",
    "    \n",
    "            # if location is susceptible, check to see if they get infected\n",
    "            if game_board[i,j] == 1:\n",
    "                \n",
    "                # initially make the position susceptible on new_board\n",
    "                new_board[i,j] = 1\n",
    "                \n",
    "                # If one of the neighboring cells was infected last turn\n",
    "                # infect represents the virus infection rate\n",
    "                neighbors = getNeighborValues(i,j, game_board)\n",
    "                for n in neighbors:\n",
    "                    if n == 2:\n",
    "                         if np.random.random() < infect:\n",
    "                            new_board[i,j] = 2\n",
    "    \n",
    "    # return the new board\n",
    "    return new_board"
   ]
  },
  {
   "cell_type": "markdown",
   "metadata": {},
   "source": [
    "# California State University Fullerton #\n",
    "Here the ABM model is performed for the California State University Fullerton campus."
   ]
  },
  {
   "cell_type": "code",
   "execution_count": 7,
   "metadata": {
    "scrolled": true
   },
   "outputs": [
    {
     "data": {
      "image/png": "[encoded data removed]",
      "text/plain": [
       "<Figure size 720x720 with 1 Axes>"
      ]
     },
     "metadata": {},
     "output_type": "display_data"
    }
   ],
   "source": [
    "# creates 50 by 50 board\n",
    "board_size = 50\n",
    "\n",
    "# figure size that looks best\n",
    "fig = plt.figure(figsize=(10,10))\n",
    "\n",
    "# inputs for influenza virus infection rate\n",
    "# immunity is 37.1% across US (from Centers for Disease Control (CDC) data)\n",
    "# The number of starting infected people is arbitrary, we have decided on 5% of the initial population\n",
    "# population density depends on college campus \n",
    "    # calculated as (25 sq ft per student * # of students)/area of campus in sq ft\n",
    "game_board = set_board(board_size = board_size, immune = 0.371, infected = 0.05, pop = 0.1825)\n",
    "\n",
    "# plot initial board\n",
    "plotgrid(game_board)\n",
    "\n",
    "# indicator variable if position/person is infected or not\n",
    "infected = True\n",
    "iterations = 0\n",
    "imagename = []\n",
    "\n",
    "# while there is at least one infected position\n",
    "while infected == True:\n",
    "    iterations += 1\n",
    "    game_board = advance_board(game_board, infect = 0.024)\n",
    "    \n",
    "    # plot our advanced board (with some animation commands)\n",
    "    plotgrid(game_board)\n",
    "    time.sleep(0.00000000001)  # \n",
    "    \n",
    "    # save the figures as .png files so we can later save them in .gif format\n",
    "    fig.savefig(\"images/cal\"+str(iterations)+\".png\")\n",
    "    imagename.append(\"images/cal\"+str(iterations)+\".png\")\n",
    "    \n",
    "    clear_output(wait = True)\n",
    "    display(fig)\n",
    "    fig.clear()\n",
    "    \n",
    "    # running for set number of iterations\n",
    "    if iterations > 50:\n",
    "        infected = False\n",
    "   \n",
    "    if (game_board == 2).sum() == 0.0:\n",
    "        infected = False\n",
    "\n",
    "# close the figure\n",
    "plt.close()     "
   ]
  },
  {
   "cell_type": "code",
   "execution_count": 8,
   "metadata": {},
   "outputs": [],
   "source": [
    "# iterating through board to get counts\n",
    "empty_count = 0\n",
    "immune_count = 0\n",
    "susc_count = 0 \n",
    "infected_count = 0\n",
    "\n",
    "for i in range(game_board.shape[0]):\n",
    "    for j in range(game_board.shape[1]):\n",
    "        \n",
    "        if game_board[i,j] == 0:\n",
    "            empty_count += 1\n",
    "                \n",
    "        if game_board[i,j] == 4:\n",
    "            immune_count += 1\n",
    "            \n",
    "        if game_board[i,j] == 2:\n",
    "            infected_count += 1\n",
    "    \n",
    "        if game_board[i,j] == 1:\n",
    "            susc_count += 1 \n",
    "            \n",
    "                            \n",
    "counts = [empty_count, immune_count, susc_count, infected_count]"
   ]
  },
  {
   "cell_type": "code",
   "execution_count": 9,
   "metadata": {},
   "outputs": [
    {
     "name": "stdout",
     "output_type": "stream",
     "text": [
      "Total Population: 1274\n",
      "# of empty cells: 1226\n",
      "# of Immune People: 782\n",
      "# of Healthy People: 331\n",
      "# of Sick People: 161\n"
     ]
    }
   ],
   "source": [
    "# print counts for total population and each condition (empty, immune, healthy/susceptible, infected)\n",
    "print(\"Total Population:\", counts[1] + counts[2] + counts[3])\n",
    "print(\"# of empty cells:\",counts[0])\n",
    "print(\"# of Immune People:\",counts[1])\n",
    "print(\"# of Healthy People:\",counts[2])\n",
    "print(\"# of Sick People:\",counts[3])"
   ]
  },
  {
   "cell_type": "code",
   "execution_count": 10,
   "metadata": {},
   "outputs": [],
   "source": [
    "# create a gif of the ABM model of the board\n",
    "images = []\n",
    "\n",
    "for img in imagename:\n",
    "    images.append(imageio.imread(img))\n",
    "imageio.mimsave('gifs/cal_movie.gif', images)"
   ]
  },
  {
   "cell_type": "markdown",
   "metadata": {},
   "source": [
    "# Michigan State University #\n",
    "Here the ABM model is performed for the Michigan State University campus."
   ]
  },
  {
   "cell_type": "code",
   "execution_count": 11,
   "metadata": {},
   "outputs": [
    {
     "data": {
      "image/png": "[encoded data removed]",
      "text/plain": [
       "<Figure size 720x720 with 1 Axes>"
      ]
     },
     "metadata": {},
     "output_type": "display_data"
    }
   ],
   "source": [
    "# creates 50 by 50 board\n",
    "board_size = 50\n",
    "\n",
    "# figure size that looks best\n",
    "fig = plt.figure(figsize=(10,10))\n",
    "\n",
    "# inputs for influenza virus infection rate\n",
    "# immunity is 37.1% across US (from Centers for Disease Control (CDC) data)\n",
    "# The number of starting infected people is arbitrary, we have decided on 5% of the initial population\n",
    "# population density depends on college campus \n",
    "    # calculated as (25 sq ft per student * # of students)/area of campus in sq ft\n",
    "game_board = set_board(board_size = board_size, immune = 0.371, infected = 0.05, pop = 0.005565)\n",
    "\n",
    "# plot initial board\n",
    "plotgrid(game_board)\n",
    "\n",
    "# indicator variable if position/person is infected or not\n",
    "infected = True\n",
    "iterations = 0\n",
    "imagename = []\n",
    "\n",
    "# while there is at least one infected position\n",
    "while infected == True:\n",
    "    iterations += 1\n",
    "    game_board = advance_board(game_board, infect = 0.024)\n",
    "    \n",
    "    # plot our advanced board (with some animation commands)\n",
    "    plotgrid(game_board)\n",
    "    time.sleep(0.00000000001)  # \n",
    "    \n",
    "    # save the figures as .png files so we can later save them in .gif format\n",
    "    fig.savefig(\"images/msu\"+str(iterations)+\".png\")\n",
    "    imagename.append(\"images/msu\"+str(iterations)+\".png\")\n",
    "    \n",
    "    clear_output(wait = True)\n",
    "    display(fig)\n",
    "    fig.clear()\n",
    "    \n",
    "    # running for set number of iterations\n",
    "    if iterations > 50:\n",
    "        infected = False\n",
    "   \n",
    "    if (game_board == 2).sum() == 0.0:\n",
    "        infected = False\n",
    "\n",
    "# close the figure\n",
    "plt.close()     "
   ]
  },
  {
   "cell_type": "code",
   "execution_count": 12,
   "metadata": {},
   "outputs": [],
   "source": [
    "# iterating through board to get counts\n",
    "empty_count = 0\n",
    "immune_count = 0\n",
    "susc_count = 0 \n",
    "infected_count = 0\n",
    "\n",
    "for i in range(game_board.shape[0]):\n",
    "    for j in range(game_board.shape[1]):\n",
    "        \n",
    "        if game_board[i,j] == 0:\n",
    "            empty_count += 1\n",
    "                \n",
    "        if game_board[i,j] == 4:\n",
    "            immune_count += 1\n",
    "            \n",
    "        if game_board[i,j] == 2:\n",
    "            infected_count += 1\n",
    "    \n",
    "        if game_board[i,j] == 1:\n",
    "            susc_count += 1 \n",
    "            \n",
    "                            \n",
    "counts = [empty_count, immune_count, susc_count, infected_count]"
   ]
  },
  {
   "cell_type": "code",
   "execution_count": 13,
   "metadata": {},
   "outputs": [
    {
     "name": "stdout",
     "output_type": "stream",
     "text": [
      "Total Population: 1026\n",
      "# of empty cells: 1474\n",
      "# of Immune People: 926\n",
      "# of Healthy People: 11\n",
      "# of Sick People: 89\n"
     ]
    }
   ],
   "source": [
    "# print counts for total population and each condition (empty, immune, healthy/susceptible, infected)\n",
    "print(\"Total Population:\", counts[1] + counts[2] + counts[3])\n",
    "print(\"# of empty cells:\",counts[0])\n",
    "print(\"# of Immune People:\",counts[1])\n",
    "print(\"# of Healthy People:\",counts[2])\n",
    "print(\"# of Sick People:\",counts[3])"
   ]
  },
  {
   "cell_type": "code",
   "execution_count": 14,
   "metadata": {},
   "outputs": [],
   "source": [
    "# create a gif of the ABM model of the board\n",
    "images = []\n",
    "\n",
    "for img in imagename:\n",
    "    images.append(imageio.imread(img))\n",
    "imageio.mimsave('gifs/msu_movie.gif', images)"
   ]
  }
 ],
 "metadata": {
  "kernelspec": {
   "display_name": "Python 3",
   "language": "python",
   "name": "python3"
  },
  "language_info": {
   "codemirror_mode": {
    "name": "ipython",
    "version": 3
   },
   "file_extension": ".py",
   "mimetype": "text/x-python",
   "name": "python",
   "nbconvert_exporter": "python",
   "pygments_lexer": "ipython3",
   "version": "3.7.3"
  }
 },
 "nbformat": 4,
 "nbformat_minor": 4
}
